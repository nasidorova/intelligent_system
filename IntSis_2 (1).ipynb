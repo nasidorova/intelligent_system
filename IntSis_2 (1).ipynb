{
 "cells": [
  {
   "cell_type": "code",
   "execution_count": 7,
   "id": "44897bdb",
   "metadata": {},
   "outputs": [],
   "source": [
    "import pandas as pd\n",
    "import numpy as np"
   ]
  },
  {
   "cell_type": "code",
   "execution_count": 8,
   "id": "5b0d0b8a",
   "metadata": {},
   "outputs": [],
   "source": [
    "text = [\n",
    "        'Sign no more, ladies',\n",
    "        'Men were deceivers ever',\n",
    "        'Sign no more ditties',\n",
    "        'The fraud of men was ever so since summer first was leafy'\n",
    "       ]"
   ]
  },
  {
   "cell_type": "code",
   "execution_count": 9,
   "id": "08596ffd",
   "metadata": {},
   "outputs": [
    {
     "name": "stdout",
     "output_type": "stream",
     "text": [
      "<class 'scipy.sparse._csr.csr_matrix'> (4, 18)\n"
     ]
    }
   ],
   "source": [
    "#создаю экземпляр класса\n",
    "from sklearn.feature_extraction.text import TfidfVectorizer\n",
    "tr_idf_model  = TfidfVectorizer()\n",
    "# вызываю метод fit_transform в тестовом корпусе\n",
    "data = tr_idf_model.fit_transform(text)\n",
    "print(type(data), data.shape)"
   ]
  },
  {
   "cell_type": "code",
   "execution_count": 10,
   "id": "0a6826ec",
   "metadata": {
    "scrolled": true
   },
   "outputs": [
    {
     "name": "stdout",
     "output_type": "stream",
     "text": [
      "[[0.         0.         0.         0.         0.         0.59081908\n",
      "  0.         0.         0.46580855 0.46580855 0.         0.46580855\n",
      "  0.         0.         0.         0.         0.         0.        ]\n",
      " [0.55528266 0.         0.43779123 0.         0.         0.\n",
      "  0.         0.43779123 0.         0.         0.         0.\n",
      "  0.         0.         0.         0.         0.         0.55528266]\n",
      " [0.         0.59081908 0.         0.         0.         0.\n",
      "  0.         0.         0.46580855 0.46580855 0.         0.46580855\n",
      "  0.         0.         0.         0.         0.         0.        ]\n",
      " [0.         0.         0.21664901 0.2747918  0.2747918  0.\n",
      "  0.2747918  0.21664901 0.         0.         0.2747918  0.\n",
      "  0.2747918  0.2747918  0.2747918  0.2747918  0.5495836  0.        ]]\n"
     ]
    }
   ],
   "source": [
    "#преобразую в стандартный массив, чтобы иметь лучшее представление о значениях\n",
    "\n",
    "tf_idf_array = data.toarray()\n",
    " \n",
    "print(tf_idf_array)"
   ]
  },
  {
   "cell_type": "code",
   "execution_count": 11,
   "id": "c45cfefb",
   "metadata": {},
   "outputs": [
    {
     "name": "stdout",
     "output_type": "stream",
     "text": [
      "['deceivers' 'ditties' 'ever' 'first' 'fraud' 'ladies' 'leafy' 'men'\n",
      " 'more' 'no' 'of' 'sign' 'since' 'so' 'summer' 'the' 'was' 'were']\n"
     ]
    }
   ],
   "source": [
    "#вывод исходных терминов\n",
    "\n",
    "words_set = tr_idf_model.get_feature_names_out()\n",
    " \n",
    "print(words_set)"
   ]
  },
  {
   "cell_type": "code",
   "execution_count": 12,
   "id": "b0762118",
   "metadata": {},
   "outputs": [
    {
     "data": {
      "text/html": [
       "<div>\n",
       "<style scoped>\n",
       "    .dataframe tbody tr th:only-of-type {\n",
       "        vertical-align: middle;\n",
       "    }\n",
       "\n",
       "    .dataframe tbody tr th {\n",
       "        vertical-align: top;\n",
       "    }\n",
       "\n",
       "    .dataframe thead th {\n",
       "        text-align: right;\n",
       "    }\n",
       "</style>\n",
       "<table border=\"1\" class=\"dataframe\">\n",
       "  <thead>\n",
       "    <tr style=\"text-align: right;\">\n",
       "      <th></th>\n",
       "      <th>deceivers</th>\n",
       "      <th>ditties</th>\n",
       "      <th>ever</th>\n",
       "      <th>first</th>\n",
       "      <th>fraud</th>\n",
       "      <th>ladies</th>\n",
       "      <th>leafy</th>\n",
       "      <th>men</th>\n",
       "      <th>more</th>\n",
       "      <th>no</th>\n",
       "      <th>of</th>\n",
       "      <th>sign</th>\n",
       "      <th>since</th>\n",
       "      <th>so</th>\n",
       "      <th>summer</th>\n",
       "      <th>the</th>\n",
       "      <th>was</th>\n",
       "      <th>were</th>\n",
       "    </tr>\n",
       "  </thead>\n",
       "  <tbody>\n",
       "    <tr>\n",
       "      <th>0</th>\n",
       "      <td>0.000000</td>\n",
       "      <td>0.000000</td>\n",
       "      <td>0.000000</td>\n",
       "      <td>0.000000</td>\n",
       "      <td>0.000000</td>\n",
       "      <td>0.590819</td>\n",
       "      <td>0.000000</td>\n",
       "      <td>0.000000</td>\n",
       "      <td>0.465809</td>\n",
       "      <td>0.465809</td>\n",
       "      <td>0.000000</td>\n",
       "      <td>0.465809</td>\n",
       "      <td>0.000000</td>\n",
       "      <td>0.000000</td>\n",
       "      <td>0.000000</td>\n",
       "      <td>0.000000</td>\n",
       "      <td>0.000000</td>\n",
       "      <td>0.000000</td>\n",
       "    </tr>\n",
       "    <tr>\n",
       "      <th>1</th>\n",
       "      <td>0.555283</td>\n",
       "      <td>0.000000</td>\n",
       "      <td>0.437791</td>\n",
       "      <td>0.000000</td>\n",
       "      <td>0.000000</td>\n",
       "      <td>0.000000</td>\n",
       "      <td>0.000000</td>\n",
       "      <td>0.437791</td>\n",
       "      <td>0.000000</td>\n",
       "      <td>0.000000</td>\n",
       "      <td>0.000000</td>\n",
       "      <td>0.000000</td>\n",
       "      <td>0.000000</td>\n",
       "      <td>0.000000</td>\n",
       "      <td>0.000000</td>\n",
       "      <td>0.000000</td>\n",
       "      <td>0.000000</td>\n",
       "      <td>0.555283</td>\n",
       "    </tr>\n",
       "    <tr>\n",
       "      <th>2</th>\n",
       "      <td>0.000000</td>\n",
       "      <td>0.590819</td>\n",
       "      <td>0.000000</td>\n",
       "      <td>0.000000</td>\n",
       "      <td>0.000000</td>\n",
       "      <td>0.000000</td>\n",
       "      <td>0.000000</td>\n",
       "      <td>0.000000</td>\n",
       "      <td>0.465809</td>\n",
       "      <td>0.465809</td>\n",
       "      <td>0.000000</td>\n",
       "      <td>0.465809</td>\n",
       "      <td>0.000000</td>\n",
       "      <td>0.000000</td>\n",
       "      <td>0.000000</td>\n",
       "      <td>0.000000</td>\n",
       "      <td>0.000000</td>\n",
       "      <td>0.000000</td>\n",
       "    </tr>\n",
       "    <tr>\n",
       "      <th>3</th>\n",
       "      <td>0.000000</td>\n",
       "      <td>0.000000</td>\n",
       "      <td>0.216649</td>\n",
       "      <td>0.274792</td>\n",
       "      <td>0.274792</td>\n",
       "      <td>0.000000</td>\n",
       "      <td>0.274792</td>\n",
       "      <td>0.216649</td>\n",
       "      <td>0.000000</td>\n",
       "      <td>0.000000</td>\n",
       "      <td>0.274792</td>\n",
       "      <td>0.000000</td>\n",
       "      <td>0.274792</td>\n",
       "      <td>0.274792</td>\n",
       "      <td>0.274792</td>\n",
       "      <td>0.274792</td>\n",
       "      <td>0.549584</td>\n",
       "      <td>0.000000</td>\n",
       "    </tr>\n",
       "  </tbody>\n",
       "</table>\n",
       "</div>"
      ],
      "text/plain": [
       "   deceivers   ditties      ever     first     fraud    ladies     leafy  \\\n",
       "0   0.000000  0.000000  0.000000  0.000000  0.000000  0.590819  0.000000   \n",
       "1   0.555283  0.000000  0.437791  0.000000  0.000000  0.000000  0.000000   \n",
       "2   0.000000  0.590819  0.000000  0.000000  0.000000  0.000000  0.000000   \n",
       "3   0.000000  0.000000  0.216649  0.274792  0.274792  0.000000  0.274792   \n",
       "\n",
       "        men      more        no        of      sign     since        so  \\\n",
       "0  0.000000  0.465809  0.465809  0.000000  0.465809  0.000000  0.000000   \n",
       "1  0.437791  0.000000  0.000000  0.000000  0.000000  0.000000  0.000000   \n",
       "2  0.000000  0.465809  0.465809  0.000000  0.465809  0.000000  0.000000   \n",
       "3  0.216649  0.000000  0.000000  0.274792  0.000000  0.274792  0.274792   \n",
       "\n",
       "     summer       the       was      were  \n",
       "0  0.000000  0.000000  0.000000  0.000000  \n",
       "1  0.000000  0.000000  0.000000  0.555283  \n",
       "2  0.000000  0.000000  0.000000  0.000000  \n",
       "3  0.274792  0.274792  0.549584  0.000000  "
      ]
     },
     "execution_count": 12,
     "metadata": {},
     "output_type": "execute_result"
    }
   ],
   "source": [
    "#создание фрейма данных для отображения оценки TF-IDF для каждого документа\n",
    "\n",
    "df_tf_idf = pd.DataFrame(tf_idf_array, columns = words_set)\n",
    " \n",
    "df_tf_idf"
   ]
  },
  {
   "cell_type": "code",
   "execution_count": null,
   "id": "56db317d",
   "metadata": {},
   "outputs": [],
   "source": []
  }
 ],
 "metadata": {
  "kernelspec": {
   "display_name": "Python 3 (ipykernel)",
   "language": "python",
   "name": "python3"
  },
  "language_info": {
   "codemirror_mode": {
    "name": "ipython",
    "version": 3
   },
   "file_extension": ".py",
   "mimetype": "text/x-python",
   "name": "python",
   "nbconvert_exporter": "python",
   "pygments_lexer": "ipython3",
   "version": "3.10.12"
  }
 },
 "nbformat": 4,
 "nbformat_minor": 5
}
